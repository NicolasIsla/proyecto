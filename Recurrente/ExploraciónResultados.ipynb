{
 "cells": [
  {
   "attachments": {},
   "cell_type": "markdown",
   "metadata": {},
   "source": [
    "## Librerias"
   ]
  },
  {
   "cell_type": "code",
   "execution_count": 1,
   "metadata": {},
   "outputs": [],
   "source": [
    "import numpy as np\n",
    "import pickle\n",
    "import gdown\n",
    "import os\n",
    "import torch\n",
    "from sklearn.model_selection import train_test_split\n",
    "# from ipywidgets import IntProgress\n",
    "# from IPython.display import display\n",
    "import torch.nn as nn\n",
    "from torch.utils.data import TensorDataset\n"
   ]
  },
  {
   "attachments": {},
   "cell_type": "markdown",
   "metadata": {},
   "source": [
    "## descarga del dataset"
   ]
  },
  {
   "cell_type": "code",
   "execution_count": 3,
   "metadata": {},
   "outputs": [],
   "source": [
    "path = \"D:/codigos/Autoencoder/ZTF/Dataset/recurrent_dataset-001.pk\"\n",
    "if not os.path.isfile(path):\n",
    "    url = 'https://drive.google.com/drive/folders/1vqfoxF-KyMNnLxABZZ_kb76DrUrixEud'\n",
    "    output=\"D:/codigos/Autoencoder/ZTF/Dataset\"\n",
    "    gdown.download_folder(url,output, quiet=False)\n",
    "    # print(2)"
   ]
  },
  {
   "cell_type": "code",
   "execution_count": 26,
   "metadata": {},
   "outputs": [
    {
     "name": "stdout",
     "output_type": "stream",
     "text": [
      "dict_keys(['template', 'science', 'difference', 'labels'])\n"
     ]
    }
   ],
   "source": [
    "path = \"D:/codigos/Autoencoder/ZTF/Dataset/datosAutoencoder.npy\"\n",
    "if not os.path.isfile(path):\n",
    "    with open('D:/codigos/Autoencoder/ZTF/Dataset/recurrent_dataset-001.pk', 'rb') as f:\n",
    "        data = pickle.load(f)\n",
    "    print(data.keys())"
   ]
  },
  {
   "attachments": {},
   "cell_type": "markdown",
   "metadata": {},
   "source": [
    "## Exploración"
   ]
  },
  {
   "cell_type": "code",
   "execution_count": 4,
   "metadata": {},
   "outputs": [
    {
     "name": "stdout",
     "output_type": "stream",
     "text": [
      "(77146, 27, 27)\n",
      "(77146, 3, 27, 27)\n",
      "(77146, 3, 27, 27)\n",
      "(77146,)\n"
     ]
    }
   ],
   "source": [
    "print(np.shape(data[\"template\"]))\n",
    "print(np.shape(data[\"science\"]))\n",
    "print(np.shape(data[\"difference\"]))\n",
    "print(np.shape(data[\"labels\"]))\n"
   ]
  },
  {
   "cell_type": "code",
   "execution_count": 36,
   "metadata": {},
   "outputs": [
    {
     "name": "stdout",
     "output_type": "stream",
     "text": [
      "dict_keys([2.0, 0.0, 1.0])\n",
      "dict_values([49454, 26190, 1502])\n"
     ]
    }
   ],
   "source": [
    "from collections import Counter\n",
    "print(Counter(data[\"labels\"]).keys())\n",
    "print(Counter(data[\"labels\"]).values())"
   ]
  },
  {
   "attachments": {},
   "cell_type": "markdown",
   "metadata": {},
   "source": [
    "## Creacion de los dataset"
   ]
  },
  {
   "cell_type": "code",
   "execution_count": 5,
   "metadata": {},
   "outputs": [],
   "source": [
    "path = \"./baseRecurrente.npy\"\n",
    "if not os.path.isfile(path):\n",
    "    indices = np.arange(77146)\n",
    "    (\n",
    "        data_train,\n",
    "        data_test_train,\n",
    "        labels_train,\n",
    "        labels_test_train,\n",
    "        indices_train,\n",
    "        indices_test_train,\n",
    "    ) = train_test_split(data[\"template\"], data[\"labels\"], indices, test_size=0.1,stratify=data[\"labels\"])\n",
    "\n",
    "    indices = np.arange(len(indices_test_train))\n",
    "    (\n",
    "        data_test,\n",
    "        data_val,\n",
    "        labels_test,\n",
    "        labels_val,\n",
    "        indices_test,\n",
    "        indices_val,\n",
    "    ) = train_test_split(data[\"template\"][indices_test_train], data[\"labels\"][indices_test_train], indices, test_size=0.5,stratify=data[\"labels\"][indices_test_train])"
   ]
  },
  {
   "cell_type": "code",
   "execution_count": 6,
   "metadata": {},
   "outputs": [
    {
     "name": "stdout",
     "output_type": "stream",
     "text": [
      "3858\n",
      "3857\n",
      "69431\n"
     ]
    }
   ],
   "source": [
    "print(len(indices_val))\n",
    "print(len(indices_test))\n",
    "print(len(indices_train))"
   ]
  },
  {
   "attachments": {},
   "cell_type": "markdown",
   "metadata": {},
   "source": [
    "## Recorte"
   ]
  },
  {
   "cell_type": "code",
   "execution_count": 9,
   "metadata": {},
   "outputs": [
    {
     "name": "stdout",
     "output_type": "stream",
     "text": [
      "train\n",
      "(69431, 21, 21)\n",
      "(69431, 3, 21, 21)\n",
      "(69431, 3, 21, 21)\n",
      "val\n",
      "(3858, 21, 21)\n",
      "(3858, 3, 21, 21)\n",
      "(3858, 3, 21, 21)\n",
      "test\n",
      "(3857, 21, 21)\n",
      "(3857, 3, 21, 21)\n",
      "(3857, 3, 21, 21)\n"
     ]
    }
   ],
   "source": [
    "path = \"./baseRecurrente.npy\"\n",
    "if not os.path.isfile(path):\n",
    "    train_label=data[\"labels\"][indices_train]\n",
    "\n",
    "    train_template=data[\"template\"][indices_train,3:24,3:24]\n",
    "    train_science=data[\"science\"][indices_train,:,3:24,3:24]\n",
    "    train_difference=data[\"difference\"][indices_train,:,3:24,3:24]\n",
    "    print(\"train\")\n",
    "    print(np.shape(train_template))\n",
    "    print(np.shape(train_science))\n",
    "    print(np.shape(train_difference))\n",
    "    print(\"val\")\n",
    "    val_label=data[\"labels\"][indices_test_train][indices_val]\n",
    "\n",
    "    val_template=data[\"template\"][indices_test_train,3:24,3:24][indices_val]\n",
    "    val_science=data[\"science\"][indices_test_train,:,3:24,3:24][indices_val]\n",
    "    val_difference=data[\"difference\"][indices_test_train,:,3:24,3:24][indices_val]\n",
    "    print(np.shape(val_template))\n",
    "    print(np.shape(val_science))\n",
    "    print(np.shape(val_difference))\n",
    "    print(\"test\")\n",
    "    test_label=data[\"labels\"][indices_test_train][indices_test]\n",
    "\n",
    "    test_template=data[\"template\"][indices_test_train,3:24,3:24][indices_test]\n",
    "    test_science=data[\"science\"][indices_test_train,:,3:24,3:24][indices_test]\n",
    "    test_difference=data[\"difference\"][indices_test_train,:,3:24,3:24][indices_test]\n",
    "    print(np.shape(test_template))\n",
    "    print(np.shape(test_science))\n",
    "    print(np.shape(test_difference))"
   ]
  },
  {
   "attachments": {},
   "cell_type": "markdown",
   "metadata": {},
   "source": [
    "## Autoencoder"
   ]
  },
  {
   "cell_type": "code",
   "execution_count": 2,
   "metadata": {},
   "outputs": [
    {
     "data": {
      "text/plain": [
       "<All keys matched successfully>"
      ]
     },
     "execution_count": 2,
     "metadata": {},
     "output_type": "execute_result"
    }
   ],
   "source": [
    "class AutoEncoderV5(nn.Module):\n",
    "    def __init__(self,):\n",
    "        super().__init__()\n",
    "        self.encoder = nn.Sequential(\n",
    "\n",
    "            # Bloque 1\n",
    "            # [3x21x21]\n",
    "            nn.ZeroPad2d(3),\n",
    "            # [3x27x27]\n",
    "            nn.Conv2d(3, 16, kernel_size=4, padding=\"same\"),\n",
    "            nn.ReLU(),\n",
    "            # [16, 24, 24]\n",
    "            nn.Conv2d(16, 32, kernel_size=3, padding=\"same\"),\n",
    "            nn.ReLU(),\n",
    "            # [32, 24, 24]\n",
    "            nn.AvgPool2d(kernel_size=2),\n",
    "            # [32, 12, 12]\n",
    "\n",
    "            # Bloque 2\n",
    "            nn.Conv2d(32, 32, kernel_size=3, padding=\"same\"),\n",
    "            nn.ReLU(),\n",
    "            # [32, 12, 12]\n",
    "            nn.Conv2d(32, 64, kernel_size=3, padding=\"same\"),\n",
    "            nn.ReLU(),\n",
    "            # [64, 12, 12]\n",
    "            nn.AvgPool2d(kernel_size=2),\n",
    "            # [64, 6, 6]\n",
    "\n",
    "            # Bloque 3\n",
    "            nn.Conv2d(64, 64, kernel_size=3, padding=\"same\"),\n",
    "            nn.ReLU(),\n",
    "            nn.Conv2d(64, 128, kernel_size=3, padding=\"same\"),\n",
    "            nn.ReLU(),\n",
    "            # [128, 6, 6]\n",
    "            nn.AvgPool2d(kernel_size=2),\n",
    "            # [128, 3, 3]\n",
    "\n",
    "            # Bloque 4\n",
    "            nn.Conv2d(128, 128, kernel_size=3, padding=\"same\"),\n",
    "            nn.ReLU(),\n",
    "            # [128, 3, 3]\n",
    "            nn.AvgPool2d(kernel_size=2),\n",
    "            # [128, 1, 1]   \n",
    "        )\n",
    "        self.decoder = nn.Sequential(\n",
    "            # BLoque 1\n",
    "            # [128, 1, 1]\n",
    "            nn.ConvTranspose2d(128, 64, 2,stride=1),\n",
    "            nn.ReLU(),\n",
    "            # [64, 2, 2]\n",
    "\n",
    "            # BLoque 2\n",
    "            nn.ConvTranspose2d(64, 64, 3,stride=2),\n",
    "            nn.ReLU(),\n",
    "            # [64, 5, 5]\n",
    "            nn.ConvTranspose2d(64, 32, 1,stride=1),\n",
    "            nn.ReLU(),\n",
    "            # [32, 5, 5]\n",
    "\n",
    "            # Bloque 3\n",
    "            nn.ConvTranspose2d(32, 32, 2,stride=2),\n",
    "            nn.ReLU(),\n",
    "            # [32, 10, 10]\n",
    "            nn.ConvTranspose2d(32, 32, 1,stride=1),\n",
    "            nn.ReLU(),\n",
    "            # [32, 10, 10]\n",
    "\n",
    "            # BLoque 4\n",
    "            nn.ConvTranspose2d(32, 16, 3,stride=2),\n",
    "            nn.ReLU(),\n",
    "            nn.ConvTranspose2d(16, 16, 1,stride=1),\n",
    "            nn.ReLU(),\n",
    "            # Bloque 5\n",
    "            nn.ConvTranspose2d(16, 3, 1,stride=1),\n",
    "            nn.ReLU(),\n",
    "        )\n",
    "        \n",
    "        self.classifier = nn.Sequential(\n",
    "            nn.Flatten(),\n",
    "            nn.Dropout(p=0.8),\n",
    "            nn.Linear(128,64),\n",
    "            nn.ReLU(),\n",
    "            # Rotation concat\n",
    "            # cyclic pooling\n",
    "            nn.Linear(64,64),\n",
    "            nn.ReLU(),\n",
    "            nn.Linear(64,64),\n",
    "            nn.ReLU(),\n",
    "            nn.Linear(64,5),\n",
    "            nn.Softmax(dim=1),\n",
    "        )\n",
    "\n",
    "    def forward(self, x):\n",
    "            encoder = self.encoder(x)\n",
    "            decoder = self.decoder(encoder)\n",
    "            classification = self.classifier(encoder)\n",
    "            return decoder,classification\n",
    "\n",
    "autoencoder = AutoEncoderV5() \n",
    "autoencoder.load_state_dict(torch.load('D:\\codigos\\Autoencoder\\ZTF\\Autoencoder\\modelos entrenados\\AutoencoderDefinitivo4.pth'))"
   ]
  },
  {
   "attachments": {},
   "cell_type": "markdown",
   "metadata": {},
   "source": [
    "## Creacion tensordataset"
   ]
  },
  {
   "cell_type": "code",
   "execution_count": 11,
   "metadata": {},
   "outputs": [
    {
     "name": "stdout",
     "output_type": "stream",
     "text": [
      "train\n",
      "(69431, 3, 3, 21, 21)\n",
      "(69431,)\n"
     ]
    },
    {
     "name": "stderr",
     "output_type": "stream",
     "text": [
      "c:\\Users\\nicoi\\MyEnv\\inteligencia\\lib\\site-packages\\torch\\nn\\modules\\conv.py:459: UserWarning: Using padding='same' with even kernel lengths and odd dilation may require a zero-padded copy of the input be created (Triggered internally at ..\\aten\\src\\ATen\\native\\Convolution.cpp:896.)\n",
      "  return F.conv2d(input, weight, bias, self.stride,\n"
     ]
    }
   ],
   "source": [
    "path = \"./basesRecurrente.npy\"\n",
    "if not os.path.isfile(path):\n",
    "    largo_train=len(train_label)\n",
    "    train=np.zeros([largo_train,3,3,21,21])\n",
    "    print(\"train\")\n",
    "    for idx,data in enumerate(train):\n",
    "        for i in range(3):\n",
    "            data[i,0]=train_template[idx]\n",
    "            data[i,1]=train_science[idx][i]\n",
    "            data[i,2]=train_difference[idx][i]\n",
    "    print(np.shape(train))\n",
    "    print(np.shape(train_label))\n",
    "\n",
    "    largo=len(train)\n",
    "    dim=128\n",
    "\n",
    "    data_train=np.zeros([largo,3,128])\n",
    "  \n",
    "    for idx, data in enumerate(train):\n",
    "        medicion=torch.squeeze(autoencoder.encoder(torch.Tensor(data))).detach().numpy()\n",
    "        data_train[idx]=medicion"
   ]
  },
  {
   "cell_type": "code",
   "execution_count": 13,
   "metadata": {},
   "outputs": [
    {
     "name": "stdout",
     "output_type": "stream",
     "text": [
      "val\n"
     ]
    }
   ],
   "source": [
    "path = \"./basesRecurrente.npy\"\n",
    "if not os.path.isfile(path):\n",
    "    largo_test=len(val_label)\n",
    "    val=np.zeros([largo_test,3,3,21,21])\n",
    "    print(\"val\")\n",
    "    for idx,data in enumerate(val):\n",
    "        for i in range(3):\n",
    "            data[i,0]=val_template[idx]\n",
    "            data[i,1]=val_science[idx][i]\n",
    "            data[i,2]=val_difference[idx][i]\n",
    "\n",
    "\n",
    "    largo=len(val)\n",
    "    data_val=np.zeros([largo,3,128])\n",
    "\n",
    "    for idx, data in enumerate(val):\n",
    "        medicion=torch.squeeze(autoencoder.encoder(torch.Tensor(data))).detach().numpy()\n",
    "        data_val[idx]=medicion"
   ]
  },
  {
   "cell_type": "code",
   "execution_count": 17,
   "metadata": {},
   "outputs": [
    {
     "name": "stdout",
     "output_type": "stream",
     "text": [
      "Test\n"
     ]
    }
   ],
   "source": [
    "path = \"./basesRecurrente.npy\"\n",
    "if not os.path.isfile(path):\n",
    "    largo_test=len(test_label)\n",
    "    test=np.zeros([largo_test,3,3,21,21])\n",
    "    print(\"Test\")\n",
    "    for idx,data in enumerate(test):\n",
    "        for i in range(3):\n",
    "            data[i,0]=test_template[idx]\n",
    "            data[i,1]=test_science[idx][i]\n",
    "            data[i,2]=test_difference[idx][i]\n",
    "\n",
    "\n",
    "    largo=len(test)\n",
    "    data_test=np.zeros([largo,3,128])\n",
    "\n",
    "    for idx, data in enumerate(test):\n",
    "        medicion=torch.squeeze(autoencoder.encoder(torch.Tensor(data))).detach().numpy()\n",
    "        data_test[idx]=medicion"
   ]
  },
  {
   "cell_type": "code",
   "execution_count": 18,
   "metadata": {},
   "outputs": [
    {
     "name": "stdout",
     "output_type": "stream",
     "text": [
      "(3858, 3, 128)\n",
      "(69431, 3, 128)\n",
      "(3857, 3, 128)\n"
     ]
    }
   ],
   "source": [
    "print(np.shape(data_val))\n",
    "print(np.shape(data_train))\n",
    "print(np.shape(data_test))\n"
   ]
  },
  {
   "cell_type": "code",
   "execution_count": 19,
   "metadata": {},
   "outputs": [],
   "source": [
    "with open('baseRecurrente.npy', 'wb') as f:\n",
    "    np.save(f, data_train)\n",
    "    np.save(f, train_label)\n",
    "    np.save(f, data_val)\n",
    "    np.save(f, val_label)\n",
    "    np.save(f, data_test)\n",
    "    np.save(f, test_label)"
   ]
  },
  {
   "cell_type": "code",
   "execution_count": 3,
   "metadata": {},
   "outputs": [],
   "source": [
    "with open('baseRecurrente.npy', 'rb') as f:\n",
    "    data_train = np.load(f)\n",
    "    train_label = np.load(f)\n",
    "    data_val = np.load(f)\n",
    "    val_label = np.load(f)\n",
    "    data_test = np.load(f)\n",
    "    test_label = np.load(f)"
   ]
  },
  {
   "attachments": {},
   "cell_type": "markdown",
   "metadata": {},
   "source": [
    "## Entrenamiento\n",
    "### Para ver si funciona el codigo, el verdadero esta en el script de entrenamiento"
   ]
  },
  {
   "cell_type": "code",
   "execution_count": 22,
   "metadata": {},
   "outputs": [],
   "source": [
    "\n",
    "my_datatrain = TensorDataset(torch.Tensor(data_train),torch.Tensor(train_label)) \n",
    "my_dataval = TensorDataset(torch.Tensor(data_val),torch.Tensor(val_label))"
   ]
  },
  {
   "cell_type": "code",
   "execution_count": 23,
   "metadata": {},
   "outputs": [],
   "source": [
    "class RNN(nn.Module):\n",
    "    def __init__(self,input_size,hidden_size,num_layers,num_classes):\n",
    "        super(RNN, self).__init__()\n",
    "        self.num_layers=num_layers\n",
    "        self.hidden_size=hidden_size\n",
    "\n",
    "        self.rnn=nn.GRU(input_size,hidden_size,num_layers,batch_first=True)\n",
    "        self.fc=nn.Sequential(nn.Linear(hidden_size,64),\n",
    "                                nn.ReLU(),\n",
    "                                nn.Linear(64,32),\n",
    "                                nn.ReLU(),\n",
    "                                nn.Linear(32,16),\n",
    "                                nn.ReLU(),\n",
    "                                nn.Linear(16,num_classes)\n",
    "                            )\n",
    "\n",
    "    \n",
    "    def forward(self, x,gpu):\n",
    "        if gpu== True:\n",
    "\n",
    "            h0=torch.zeros(self.num_layers,x.size(0),self.hidden_size).cuda()\n",
    "        else:\n",
    "            h0=torch.zeros(self.num_layers,x.size(0),self.hidden_size)\n",
    "\n",
    "        out,_=self.rnn(x,h0)\n",
    "        out=out[:,-1,:]\n",
    "        out=self.fc(out)\n",
    "        return out\n"
   ]
  },
  {
   "cell_type": "code",
   "execution_count": 24,
   "metadata": {},
   "outputs": [
    {
     "name": "stdout",
     "output_type": "stream",
     "text": [
      "Epoch [1/100], Loss:0.4178, acc train: 0.8274\n",
      "Epoch [1/100], acc val: 0.8344\n",
      "Epoch [2/100], Loss:0.3753, acc train: 0.8447\n",
      "Epoch [2/100], acc val: 0.8561\n",
      "Epoch [3/100], Loss:0.3593, acc train: 0.8550\n",
      "Epoch [3/100], acc val: 0.8569\n",
      "Epoch [4/100], Loss:0.3480, acc train: 0.8601\n",
      "Epoch [4/100], acc val: 0.8626\n",
      "Epoch [5/100], Loss:0.3404, acc train: 0.8647\n",
      "Epoch [5/100], acc val: 0.8740\n",
      "Epoch [6/100], Loss:0.3323, acc train: 0.8680\n",
      "Epoch [6/100], acc val: 0.8678\n",
      "Epoch [7/100], Loss:0.3286, acc train: 0.8692\n",
      "Epoch [7/100], acc val: 0.8727\n",
      "Epoch [8/100], Loss:0.3237, acc train: 0.8717\n",
      "Epoch [8/100], acc val: 0.8751\n",
      "Epoch [9/100], Loss:0.3208, acc train: 0.8730\n",
      "Epoch [9/100], acc val: 0.8686\n",
      "Epoch [10/100], Loss:0.3149, acc train: 0.8754\n",
      "Epoch [10/100], acc val: 0.8688\n",
      "Epoch [11/100], Loss:0.3116, acc train: 0.8764\n",
      "Epoch [11/100], acc val: 0.8738\n",
      "Epoch [12/100], Loss:0.3072, acc train: 0.8783\n",
      "Epoch [12/100], acc val: 0.8743\n",
      "Epoch [13/100], Loss:0.3032, acc train: 0.8791\n",
      "Epoch [13/100], acc val: 0.8756\n",
      "Epoch [14/100], Loss:0.2993, acc train: 0.8805\n",
      "Epoch [14/100], acc val: 0.8704\n",
      "Epoch [15/100], Loss:0.2962, acc train: 0.8816\n",
      "Epoch [15/100], acc val: 0.8777\n",
      "Epoch [16/100], Loss:0.2922, acc train: 0.8838\n",
      "Epoch [16/100], acc val: 0.8740\n",
      "Epoch [17/100], Loss:0.2879, acc train: 0.8853\n",
      "Epoch [17/100], acc val: 0.8707\n",
      "Epoch [18/100], Loss:0.2841, acc train: 0.8863\n",
      "Epoch [18/100], acc val: 0.8743\n",
      "Epoch [19/100], Loss:0.2815, acc train: 0.8876\n",
      "Epoch [19/100], acc val: 0.8800\n",
      "Epoch [20/100], Loss:0.2761, acc train: 0.8903\n",
      "Epoch [20/100], acc val: 0.8764\n",
      "Epoch [21/100], Loss:0.2725, acc train: 0.8912\n",
      "Epoch [21/100], acc val: 0.8733\n",
      "Epoch [22/100], Loss:0.2685, acc train: 0.8931\n",
      "Epoch [22/100], acc val: 0.8782\n",
      "Epoch [23/100], Loss:0.2632, acc train: 0.8947\n",
      "Epoch [23/100], acc val: 0.8722\n",
      "Epoch [24/100], Loss:0.2603, acc train: 0.8966\n",
      "Epoch [24/100], acc val: 0.8751\n"
     ]
    },
    {
     "ename": "KeyboardInterrupt",
     "evalue": "",
     "output_type": "error",
     "traceback": [
      "\u001b[1;31m---------------------------------------------------------------------------\u001b[0m",
      "\u001b[1;31mKeyboardInterrupt\u001b[0m                         Traceback (most recent call last)",
      "Cell \u001b[1;32mIn [24], line 59\u001b[0m\n\u001b[0;32m     57\u001b[0m loss\u001b[39m=\u001b[39mcriterion(outputs, y_batch)\n\u001b[0;32m     58\u001b[0m optimizer\u001b[39m.\u001b[39mzero_grad()\n\u001b[1;32m---> 59\u001b[0m loss\u001b[39m.\u001b[39;49mbackward()\n\u001b[0;32m     60\u001b[0m optimizer\u001b[39m.\u001b[39mstep()\n\u001b[0;32m     61\u001b[0m acumulado\u001b[39m+\u001b[39m\u001b[39m=\u001b[39mloss\u001b[39m.\u001b[39mitem()\n",
      "File \u001b[1;32mc:\\Users\\nicoi\\MyEnv\\inteligencia\\lib\\site-packages\\torch\\_tensor.py:487\u001b[0m, in \u001b[0;36mTensor.backward\u001b[1;34m(self, gradient, retain_graph, create_graph, inputs)\u001b[0m\n\u001b[0;32m    477\u001b[0m \u001b[39mif\u001b[39;00m has_torch_function_unary(\u001b[39mself\u001b[39m):\n\u001b[0;32m    478\u001b[0m     \u001b[39mreturn\u001b[39;00m handle_torch_function(\n\u001b[0;32m    479\u001b[0m         Tensor\u001b[39m.\u001b[39mbackward,\n\u001b[0;32m    480\u001b[0m         (\u001b[39mself\u001b[39m,),\n\u001b[1;32m   (...)\u001b[0m\n\u001b[0;32m    485\u001b[0m         inputs\u001b[39m=\u001b[39minputs,\n\u001b[0;32m    486\u001b[0m     )\n\u001b[1;32m--> 487\u001b[0m torch\u001b[39m.\u001b[39;49mautograd\u001b[39m.\u001b[39;49mbackward(\n\u001b[0;32m    488\u001b[0m     \u001b[39mself\u001b[39;49m, gradient, retain_graph, create_graph, inputs\u001b[39m=\u001b[39;49minputs\n\u001b[0;32m    489\u001b[0m )\n",
      "File \u001b[1;32mc:\\Users\\nicoi\\MyEnv\\inteligencia\\lib\\site-packages\\torch\\autograd\\__init__.py:197\u001b[0m, in \u001b[0;36mbackward\u001b[1;34m(tensors, grad_tensors, retain_graph, create_graph, grad_variables, inputs)\u001b[0m\n\u001b[0;32m    192\u001b[0m     retain_graph \u001b[39m=\u001b[39m create_graph\n\u001b[0;32m    194\u001b[0m \u001b[39m# The reason we repeat same the comment below is that\u001b[39;00m\n\u001b[0;32m    195\u001b[0m \u001b[39m# some Python versions print out the first line of a multi-line function\u001b[39;00m\n\u001b[0;32m    196\u001b[0m \u001b[39m# calls in the traceback and some print out the last line\u001b[39;00m\n\u001b[1;32m--> 197\u001b[0m Variable\u001b[39m.\u001b[39;49m_execution_engine\u001b[39m.\u001b[39;49mrun_backward(  \u001b[39m# Calls into the C++ engine to run the backward pass\u001b[39;49;00m\n\u001b[0;32m    198\u001b[0m     tensors, grad_tensors_, retain_graph, create_graph, inputs,\n\u001b[0;32m    199\u001b[0m     allow_unreachable\u001b[39m=\u001b[39;49m\u001b[39mTrue\u001b[39;49;00m, accumulate_grad\u001b[39m=\u001b[39;49m\u001b[39mTrue\u001b[39;49;00m)\n",
      "\u001b[1;31mKeyboardInterrupt\u001b[0m: "
     ]
    }
   ],
   "source": [
    "input_size=128\n",
    "hidden_size=200\n",
    "num_classes=3\n",
    "num_epoch=1\n",
    "batch_size=32\n",
    "lr=1e-3\n",
    "num_layers=4\n",
    "    \n",
    "\n",
    "model=RNN(input_size,hidden_size,num_layers,num_classes)  \n",
    "criterion= nn.CrossEntropyLoss() # Probar con Cross entropy\n",
    "optimizer=torch.optim.Adam(model.parameters(),lr=lr) # Probar con Sgd\n",
    "\n",
    "\n",
    "\n",
    "current_loss=0\n",
    "all_losses=[]\n",
    "batch_size=32\n",
    "use_gpu=False\n",
    "\n",
    "train_loader = torch.utils.data.DataLoader(my_datatrain, batch_size=batch_size, shuffle=True, num_workers=2, pin_memory=use_gpu)\n",
    "val_loader = torch.utils.data.DataLoader(my_dataval, batch_size=len(my_dataval), shuffle=False, pin_memory=use_gpu)\n",
    "num_total_steps=len(train_loader)\n",
    "\n",
    "if use_gpu:\n",
    "    model.cuda()\n",
    "    autoencoder.encoder.cuda()\n",
    "\n",
    "for epoch in range(num_epoch):\n",
    "    acumulado=0\n",
    "    train_acc_count=0\n",
    "    val_acc_count=0\n",
    "\n",
    "    cumulative_train_corrects=0\n",
    "\n",
    "    model.train()   \n",
    "    for i, (x_batch, y_batch) in enumerate(train_loader):\n",
    "        largo=len(x_batch)\n",
    "        # print(np.shape(x_batch))\n",
    "        if use_gpu:\n",
    "            x_batch = x_batch.cuda()\n",
    "            y_batch = y_batch.cuda()\n",
    "\n",
    "        outputs=model(x_batch,use_gpu)\n",
    "\n",
    "        if use_gpu:\n",
    "            y_batch = y_batch.type(torch.LongTensor).cuda()\n",
    "        else:\n",
    "            y_batch = y_batch.type(torch.LongTensor)\n",
    "\n",
    "        class_prediction = torch.argmax(outputs, axis=1).long()\n",
    "        train_acc_count += y_batch.shape[0]\n",
    "        cumulative_train_corrects += (y_batch == class_prediction).sum().item()\n",
    "\n",
    "        loss=criterion(outputs, y_batch)\n",
    "        optimizer.zero_grad()\n",
    "        loss.backward()\n",
    "        optimizer.step()\n",
    "        acumulado+=loss.item()\n",
    "    \n",
    "    print(f\"Epoch [{epoch+1}/{num_epoch}], Loss:{acumulado/num_total_steps:.4f}, acc train: {cumulative_train_corrects / train_acc_count:.4f}\")\n",
    "\n",
    "    model.eval()\n",
    "    with torch.no_grad():\n",
    "        val_acc_count=0\n",
    "        cumulative_val_corrects=0\n",
    "        for x_val, y_val in val_loader:\n",
    "            if use_gpu:\n",
    "                x_val = x_val.cuda()\n",
    "                y_val = y_val.cuda()\n",
    "\n",
    "            y_predicted = model(x_val,use_gpu)\n",
    "            class_prediction = torch.argmax(y_predicted, axis=1).long()\n",
    "            val_acc_count += y_val.shape[0]\n",
    "            cumulative_val_corrects += (y_val == class_prediction).sum().item()\n",
    "\n",
    "    print(f\"Epoch [{epoch+1}/{num_epoch}], acc val: {cumulative_val_corrects / val_acc_count:.4f}\")"
   ]
  },
  {
   "attachments": {},
   "cell_type": "markdown",
   "metadata": {},
   "source": [
    "## Resultados"
   ]
  },
  {
   "cell_type": "code",
   "execution_count": 6,
   "metadata": {},
   "outputs": [],
   "source": [
    "class RNN(nn.Module):\n",
    "    def __init__(self,input_size,hidden_size,num_layers,num_classes):\n",
    "        super(RNN, self).__init__()\n",
    "        self.num_layers=num_layers\n",
    "        self.hidden_size=hidden_size\n",
    "\n",
    "        self.rnn=nn.GRU(input_size,hidden_size,num_layers,batch_first=True)\n",
    "        self.fc=nn.Sequential(nn.Linear(hidden_size,64),\n",
    "                                nn.Dropout(p=0.3),\n",
    "                                nn.ReLU(),\n",
    "                                nn.Linear(64,32),\n",
    "                                nn.ReLU(),\n",
    "                                nn.Linear(32,16),\n",
    "                                nn.ReLU(),\n",
    "                                nn.Linear(16,num_classes)\n",
    "                            )\n",
    "\n",
    "    \n",
    "    def forward(self, x,gpu):\n",
    "        if gpu== True:\n",
    "\n",
    "            h0=torch.zeros(self.num_layers,x.size(0),self.hidden_size).cuda()\n",
    "        else:\n",
    "            h0=torch.zeros(self.num_layers,x.size(0),self.hidden_size)\n",
    "\n",
    "        out,_=self.rnn(x,h0)\n",
    "        out=out[:,-1,:]\n",
    "        out=self.fc(out)\n",
    "        return out"
   ]
  },
  {
   "cell_type": "code",
   "execution_count": 8,
   "metadata": {},
   "outputs": [
    {
     "data": {
      "text/plain": [
       "<All keys matched successfully>"
      ]
     },
     "execution_count": 8,
     "metadata": {},
     "output_type": "execute_result"
    }
   ],
   "source": [
    "input_size=128\n",
    "hidden_size=32\n",
    "num_classes=3\n",
    "num_layers=2\n",
    "    \n",
    "\n",
    "model=RNN(input_size,hidden_size,num_layers,num_classes)  \n",
    "# model = torch.load(\"D:\\codigos\\Autoencoder\\ZTF\\Autoencoder\\modelos entrenados\\AutoencoderClasificador10.pth\")\n",
    "# model\n",
    "model.load_state_dict(torch.load('D:\\codigos\\Autoencoder\\ZTF\\Recurrente\\Modelos\\RecurrenteFinal.pth'))"
   ]
  },
  {
   "cell_type": "code",
   "execution_count": 9,
   "metadata": {},
   "outputs": [],
   "source": [
    "with open('D:\\codigos\\Autoencoder\\ZTF\\Recurrente/baseRecurrente.npy', 'rb') as f:\n",
    "    data_train = np.load(f)\n",
    "    train_label = np.load(f)\n",
    "    data_val = np.load(f)\n",
    "    val_label = np.load(f)\n",
    "    data_test = np.load(f)\n",
    "    test_label = np.load(f)"
   ]
  },
  {
   "attachments": {},
   "cell_type": "markdown",
   "metadata": {},
   "source": [
    "### Matriz sin balancear"
   ]
  },
  {
   "cell_type": "code",
   "execution_count": 10,
   "metadata": {},
   "outputs": [],
   "source": [
    "datatest_tensor = torch.Tensor(data_test)\n",
    "# datatest_tensor = datatest_tensor.permute(0, 3, 1, 2)\n",
    "my_datatest= TensorDataset(datatest_tensor,torch.Tensor(test_label))"
   ]
  },
  {
   "cell_type": "code",
   "execution_count": 11,
   "metadata": {},
   "outputs": [],
   "source": [
    "test_loader = torch.utils.data.DataLoader(my_datatest, batch_size=len(my_datatest), shuffle=False, pin_memory=False)\n",
    "model.eval()\n",
    "with torch.no_grad():\n",
    "    for x_test,y_test in test_loader:\n",
    "        # print(np.shape(x_test))\n",
    "        # print(np.shape(y_test))\n",
    "\n",
    "        y_predicted = model(x_test,False)"
   ]
  },
  {
   "cell_type": "code",
   "execution_count": 12,
   "metadata": {},
   "outputs": [
    {
     "data": {
      "image/png": "[encoded data removed]",
      "text/plain": [
       "<Figure size 1200x1000 with 2 Axes>"
      ]
     },
     "metadata": {},
     "output_type": "display_data"
    }
   ],
   "source": [
    "from sklearn.metrics import confusion_matrix\n",
    "import seaborn as sns\n",
    "import matplotlib.pyplot as plt\n",
    "# X_test=vector_test64\n",
    "# predict=rbf_svc.predict(X_test)\n",
    "\n",
    "class_prediction = torch.argmax(y_predicted, axis=1).long()\n",
    "# https://stackoverflow.com/questions/65618137/confusion-matrix-for-multiple-classes-in-python\n",
    "\n",
    "\n",
    "# labels = le.classes_\n",
    "class_names =  [\"Active Galactic Nuclei\",\"Supernovae\",\"Variable Stars\"]\n",
    "\n",
    "cm = confusion_matrix(y_test, class_prediction)\n",
    "# cmn = 100*cm.astype('float') / cm.sum(axis=1)[:, np.newaxis]\n",
    "fig = plt.figure(figsize=(12, 10))\n",
    "ax= plt.subplot()\n",
    "sns.heatmap(cm, annot=True,cmap=\"Blues\", ax = ax, fmt = 'g'); #annot=True to annotate cells\n",
    "# labels, title and ticks\n",
    "ax.set_xlabel('Predicted', fontsize=20)\n",
    "ax.xaxis.set_label_position('bottom')\n",
    "plt.xticks(rotation=90)\n",
    "ax.xaxis.set_ticklabels(class_names, fontsize = 10)\n",
    "ax.xaxis.tick_bottom()\n",
    "\n",
    "ax.set_ylabel('True', fontsize=20)\n",
    "ax.yaxis.set_ticklabels(class_names, fontsize = 10)\n",
    "plt.yticks(rotation=0)\n",
    "\n",
    "plt.title('Clasificador Recurrente: Matrix de Confusión 128 caracteristicas', fontsize=20)\n",
    "\n",
    "# plt.savefig('ConMat24.png')\n",
    "plt.show()"
   ]
  },
  {
   "attachments": {},
   "cell_type": "markdown",
   "metadata": {},
   "source": [
    "### Desbalance"
   ]
  },
  {
   "cell_type": "code",
   "execution_count": 27,
   "metadata": {},
   "outputs": [
    {
     "name": "stdout",
     "output_type": "stream",
     "text": [
      "dict_keys([2.0, 0.0, 1.0])\n",
      "dict_values([49454, 26190, 1502])\n"
     ]
    }
   ],
   "source": [
    "from collections import Counter\n",
    "print(Counter(data[\"labels\"]).keys())\n",
    "print(Counter(data[\"labels\"]).values())\n"
   ]
  },
  {
   "cell_type": "code",
   "execution_count": 28,
   "metadata": {},
   "outputs": [
    {
     "name": "stdout",
     "output_type": "stream",
     "text": [
      "dict_keys([2.0, 0.0, 1.0])\n",
      "dict_values([44508, 23571, 1352])\n"
     ]
    }
   ],
   "source": [
    "print(Counter(train_label).keys())\n",
    "print(Counter(train_label).values())"
   ]
  },
  {
   "cell_type": "code",
   "execution_count": 30,
   "metadata": {},
   "outputs": [
    {
     "name": "stdout",
     "output_type": "stream",
     "text": [
      "dict_keys([2.0, 0.0, 1.0])\n",
      "dict_values([2473, 1309, 75])\n"
     ]
    }
   ],
   "source": [
    "print(Counter(test_label).keys())\n",
    "print(Counter(test_label).values())"
   ]
  },
  {
   "attachments": {},
   "cell_type": "markdown",
   "metadata": {},
   "source": [
    "## Balance"
   ]
  },
  {
   "cell_type": "code",
   "execution_count": 13,
   "metadata": {},
   "outputs": [
    {
     "name": "stdout",
     "output_type": "stream",
     "text": [
      "(4056, 3, 128)\n",
      "(4056,)\n"
     ]
    }
   ],
   "source": [
    "filtro2=(train_label==2)\n",
    "filtro1=(train_label==1)\n",
    "filtro0=(train_label==0)\n",
    "label0=train_label[filtro0][:1352]\n",
    "label1=train_label[filtro1][:1352]\n",
    "label2=train_label[filtro2][:1352]\n",
    "\n",
    "data0=data_train[filtro0][:1352]\n",
    "data1=data_train[filtro1][:1352]\n",
    "data2=data_train[filtro2][:1352]\n",
    "data_train=np.concatenate((data0, data1,data2), axis=0)\n",
    "train_label=np.concatenate((label0, label1,label2), axis=0)\n",
    "print(np.shape(data_train))\n",
    "print(np.shape(train_label))"
   ]
  },
  {
   "cell_type": "code",
   "execution_count": 15,
   "metadata": {},
   "outputs": [
    {
     "name": "stdout",
     "output_type": "stream",
     "text": [
      "dict_keys([0.0, 1.0, 2.0])\n",
      "dict_values([1352, 1352, 1352])\n"
     ]
    }
   ],
   "source": [
    "from collections import Counter\n",
    "print(Counter(train_label).keys())\n",
    "print(Counter(train_label).values())"
   ]
  },
  {
   "cell_type": "code",
   "execution_count": 16,
   "metadata": {},
   "outputs": [
    {
     "name": "stdout",
     "output_type": "stream",
     "text": [
      "(225, 3, 128)\n",
      "(225,)\n"
     ]
    }
   ],
   "source": [
    "filtro2=(val_label==2)\n",
    "filtro1=(val_label==1)\n",
    "filtro0=(val_label==0)\n",
    "label0=val_label[filtro0][:75]\n",
    "label1=val_label[filtro1][:75]\n",
    "label2=val_label[filtro2][:75]\n",
    "\n",
    "data0=data_val[filtro0][:75]\n",
    "data1=data_val[filtro1][:75]\n",
    "data2=data_val[filtro2][:75]\n",
    "data_val=np.concatenate((data0, data1,data2), axis=0)\n",
    "val_label=np.concatenate((label0, label1,label2), axis=0)\n",
    "print(np.shape(data_val))\n",
    "print(np.shape(val_label))"
   ]
  },
  {
   "cell_type": "code",
   "execution_count": 17,
   "metadata": {},
   "outputs": [
    {
     "name": "stdout",
     "output_type": "stream",
     "text": [
      "dict_keys([0.0, 1.0, 2.0])\n",
      "dict_values([75, 75, 75])\n"
     ]
    }
   ],
   "source": [
    "print(Counter(val_label).keys())\n",
    "print(Counter(val_label).values())"
   ]
  },
  {
   "cell_type": "code",
   "execution_count": 18,
   "metadata": {},
   "outputs": [],
   "source": [
    "filtro2=(test_label==2)\n",
    "filtro1=(test_label==1)\n",
    "filtro0=(test_label==0)\n",
    "\n",
    "label0=test_label[filtro0][:75]\n",
    "label1=test_label[filtro1][:75]\n",
    "label2=test_label[filtro2][:75]\n",
    "\n",
    "data0=data_test[filtro0][:75]\n",
    "data1=data_test[filtro1][:75]\n",
    "data2=data_test[filtro2][:75]\n",
    "data_test=np.concatenate((data0, data1,data2), axis=0)\n",
    "test_label=np.concatenate((label0, label1,label2), axis=0)"
   ]
  },
  {
   "attachments": {},
   "cell_type": "markdown",
   "metadata": {},
   "source": [
    "## Matriz balanceada"
   ]
  },
  {
   "cell_type": "code",
   "execution_count": 19,
   "metadata": {},
   "outputs": [],
   "source": [
    "\n",
    "my_datatrain = TensorDataset(torch.Tensor(data_train),torch.Tensor(train_label)) \n",
    "my_dataval = TensorDataset(torch.Tensor(data_val),torch.Tensor(val_label))\n",
    "my_datatest = TensorDataset(torch.Tensor(data_test),torch.Tensor(test_label))"
   ]
  },
  {
   "cell_type": "code",
   "execution_count": 20,
   "metadata": {},
   "outputs": [],
   "source": [
    "test_loader = torch.utils.data.DataLoader(my_datatest, batch_size=len(my_datatest), shuffle=False, pin_memory=False)\n",
    "model.eval()\n",
    "with torch.no_grad():\n",
    "    for x_test,y_test in test_loader:\n",
    "\n",
    "        y_predicted = model(x_test,False)"
   ]
  },
  {
   "cell_type": "code",
   "execution_count": 23,
   "metadata": {},
   "outputs": [
    {
     "data": {
      "image/png": "[encoded data removed]",
      "text/plain": [
       "<Figure size 1200x1000 with 2 Axes>"
      ]
     },
     "metadata": {},
     "output_type": "display_data"
    }
   ],
   "source": [
    "from sklearn.metrics import confusion_matrix\n",
    "import seaborn as sns\n",
    "import matplotlib.pyplot as plt\n",
    "# X_test=vector_test64\n",
    "# predict=rbf_svc.predict(X_test)\n",
    "\n",
    "class_prediction = torch.argmax(y_predicted, axis=1).long()\n",
    "# https://stackoverflow.com/questions/65618137/confusion-matrix-for-multiple-classes-in-python\n",
    "\n",
    "\n",
    "# labels = le.classes_\n",
    "class_names =  [\"Active Galactic Nuclei\",\"Supernovae\",\"Variable Stars\"]\n",
    "\n",
    "cm = confusion_matrix(y_test, class_prediction)\n",
    "cmn = 100*cm.astype('float') / cm.sum(axis=1)[:, np.newaxis]\n",
    "fig = plt.figure(figsize=(12, 10))\n",
    "ax= plt.subplot()\n",
    "sns.heatmap(cmn, annot=True,cmap=\"Blues\", ax = ax, fmt = 'g'); #annot=True to annotate cells\n",
    "# labels, title and ticks\n",
    "ax.set_xlabel('Predicted', fontsize=20)\n",
    "ax.xaxis.set_label_position('bottom')\n",
    "plt.xticks(rotation=90)\n",
    "ax.xaxis.set_ticklabels(class_names, fontsize = 10)\n",
    "ax.xaxis.tick_bottom()\n",
    "\n",
    "ax.set_ylabel('True', fontsize=20)\n",
    "ax.yaxis.set_ticklabels(class_names, fontsize = 10)\n",
    "plt.yticks(rotation=0)\n",
    "\n",
    "plt.title('Clasificador Recurrente: Matrix de Confusión 128 caracteristicas', fontsize=20)\n",
    "\n",
    "# plt.savefig('ConMat24.png')\n",
    "plt.show()"
   ]
  }
 ],
 "metadata": {
  "kernelspec": {
   "display_name": "inteligencia",
   "language": "python",
   "name": "python3"
  },
  "language_info": {
   "codemirror_mode": {
    "name": "ipython",
    "version": 3
   },
   "file_extension": ".py",
   "mimetype": "text/x-python",
   "name": "python",
   "nbconvert_exporter": "python",
   "pygments_lexer": "ipython3",
   "version": "3.10.8 (tags/v3.10.8:aaaf517, Oct 11 2022, 16:50:30) [MSC v.1933 64 bit (AMD64)]"
  },
  "orig_nbformat": 4,
  "vscode": {
   "interpreter": {
    "hash": "49e74fd012b5c81c96c72a4dc2768bca761f8ccf6bfd7a19c7f396fe41ae87bd"
   }
  }
 },
 "nbformat": 4,
 "nbformat_minor": 2
}
