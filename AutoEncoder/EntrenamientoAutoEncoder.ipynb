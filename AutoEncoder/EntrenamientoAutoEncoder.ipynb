{
  "cells": [
    {
      "attachments": {},
      "cell_type": "markdown",
      "metadata": {},
      "source": [
        "## Ejecución en Google Colab"
      ]
    },
    {
      "cell_type": "markdown",
      "metadata": {
        "id": "byJOZq87jOJR"
      },
      "source": [
        "## Librerias"
      ]
    },
    {
      "cell_type": "code",
      "execution_count": null,
      "metadata": {
        "id": "8NNHiIQnjOJT"
      },
      "outputs": [],
      "source": [
        "import numpy as np\n",
        "import torch \n",
        "import time\n",
        "import matplotlib.pyplot as plt\n",
        "import pickle\n",
        "import os\n",
        "import gdown\n",
        "from torch.utils.data import TensorDataset, DataLoader\n",
        "import torch.nn as nn"
      ]
    },
    {
      "cell_type": "code",
      "execution_count": null,
      "metadata": {
        "colab": {
          "base_uri": "https://localhost:8080/"
        },
        "id": "0miju6DGjQOr",
        "outputId": "6178894c-3ab0-435a-b9e8-a01058472dfa"
      },
      "outputs": [
        {
          "name": "stdout",
          "output_type": "stream",
          "text": [
            "Mounted at /content/drive\n"
          ]
        }
      ],
      "source": [
        "from google.colab import drive,output\n",
        "\n",
        "drive.mount('/content/drive')\n",
        "# !ln -s \"/content/drive/MyDrive/Datos ZTF\""
      ]
    },
    {
      "cell_type": "code",
      "execution_count": null,
      "metadata": {
        "id": "O9cT1lmpjtfw"
      },
      "outputs": [],
      "source": [
        "!ln -s \"/content/drive/MyDrive/Datos ZTF\""
      ]
    },
    {
      "cell_type": "markdown",
      "metadata": {
        "id": "6GoAnxk4jOJU"
      },
      "source": [
        "## Lectura de datos"
      ]
    },
    {
      "cell_type": "code",
      "execution_count": null,
      "metadata": {
        "id": "hP4zMNpWjOJU"
      },
      "outputs": [],
      "source": [
        "# path = \"D:/codigos/Autoencoder/ZTF/Dataset/td_ztf_stamp_17_06_20-002.pkl\"\n",
        "if not os.path.isfile(path):\n",
        "    url = 'https://drive.google.com/drive/folders/1vqfoxF-KyMNnLxABZZ_kb76DrUrixEud'\n",
        "    output=\"D:/codigos/Autoencoder/ZTF/Dataset\"\n",
        "    gdown.download_folder(url,output, quiet=False)"
      ]
    },
    {
      "cell_type": "code",
      "execution_count": null,
      "metadata": {
        "id": "sIhai4TsjOJU",
        "outputId": "bff93095-de0a-4c64-c65e-9fda6c4c2d89"
      },
      "outputs": [
        {
          "name": "stdout",
          "output_type": "stream",
          "text": [
            "dict_keys(['Train', 'Validation', 'Test'])\n"
          ]
        }
      ],
      "source": [
        "# path = \"D:/codigos/Autoencoder/ZTF/Dataset/datosAutoencoder.npy\"\n",
        "if not os.path.isfile(path):\n",
        "    with open('D:/codigos/Autoencoder/ZTF/Dataset/td_ztf_stamp_17_06_20-002.pkl', 'rb') as f:\n",
        "        data = pickle.load(f)\n",
        "    print(data.keys())"
      ]
    },
    {
      "cell_type": "code",
      "execution_count": null,
      "metadata": {
        "colab": {
          "base_uri": "https://localhost:8080/"
        },
        "id": "3QWMRkcZj7hC",
        "outputId": "54120245-4f70-4c9f-c282-e931f01e2218"
      },
      "outputs": [
        {
          "name": "stdout",
          "output_type": "stream",
          "text": [
            "dict_keys(['Train', 'Validation', 'Test'])\n"
          ]
        }
      ],
      "source": [
        "\n",
        "# if not os.path.isfile(path):\n",
        "with open('/content/Datos ZTF/td_ztf_stamp_17_06_20.pkl', 'rb') as f:\n",
        "    data = pickle.load(f)\n",
        "print(data.keys())"
      ]
    },
    {
      "cell_type": "markdown",
      "metadata": {
        "id": "_9fykz7MjOJV"
      },
      "source": [
        "## Exploracion"
      ]
    },
    {
      "cell_type": "code",
      "execution_count": null,
      "metadata": {
        "colab": {
          "base_uri": "https://localhost:8080/"
        },
        "id": "DVrJ38KtjOJV",
        "outputId": "08877e89-90d2-4c11-efa3-04d411ae86ce"
      },
      "outputs": [
        {
          "name": "stdout",
          "output_type": "stream",
          "text": [
            "Dimension, tipo, llaves\n",
            "() <class 'dict'> dict_keys(['images', 'labels', 'features'])\n"
          ]
        }
      ],
      "source": [
        "print(\"Dimension, tipo, llaves\")\n",
        "print(np.shape(data[\"Train\"]),type(data[\"Train\"]),data[\"Train\"].keys())"
      ]
    },
    {
      "cell_type": "code",
      "execution_count": null,
      "metadata": {
        "id": "eUT8Bj92jOJW",
        "outputId": "ee891626-de01-451e-a9e3-f86c9cd8e867"
      },
      "outputs": [
        {
          "name": "stdout",
          "output_type": "stream",
          "text": [
            "Cantidad de muestras\n",
            "(72710,)\n",
            "(500,)\n",
            "(500,)\n",
            "Dimensiones\n",
            "(72710, 63, 63, 3)\n",
            "(500, 63, 63, 3)\n",
            "(500, 63, 63, 3)\n"
          ]
        }
      ],
      "source": [
        "print(\"Cantidad de muestras\")\n",
        "print(np.shape(data[\"Train\"][\"labels\"]))\n",
        "print(np.shape(data[\"Validation\"][\"labels\"]))\n",
        "print(np.shape(data[\"Test\"][\"labels\"]))\n",
        "print(\"Dimensiones\")\n",
        "print(np.shape(data[\"Train\"][\"images\"]))\n",
        "print(np.shape(data[\"Validation\"][\"images\"]))\n",
        "print(np.shape(data[\"Test\"][\"images\"]))"
      ]
    },
    {
      "cell_type": "markdown",
      "metadata": {
        "id": "hLAa7wnSjOJW"
      },
      "source": [
        "## Procesamiento\n",
        "Recorte a 21 x 21"
      ]
    },
    {
      "cell_type": "code",
      "execution_count": null,
      "metadata": {
        "id": "JfTIopnFjOJW"
      },
      "outputs": [],
      "source": [
        "datatrain=np.zeros([len(data[\"Train\"][\"images\"]),21,21,3])\n",
        "dataval=np.zeros([len(data[\"Validation\"][\"images\"]),21,21,3])\n",
        "datatest=np.zeros([len(data[\"Test\"][\"images\"]),21,21,3])\n",
        "\n",
        "for id,muestra in enumerate(data[\"Train\"][\"images\"]):\n",
        "    datatrain[id]=muestra[ 21:42 , 21:42 ]\n",
        "for id,muestra in enumerate(data[\"Validation\"][\"images\"]):\n",
        "    dataval[id]=muestra[ 21:42 , 21:42 ]\n",
        "for id,muestra in enumerate(data[\"Test\"][\"images\"]):\n",
        "    datatest[id]=muestra[ 21:42 , 21:42 ]"
      ]
    },
    {
      "cell_type": "code",
      "execution_count": null,
      "metadata": {
        "id": "Xzmoq9W8jOJW"
      },
      "outputs": [],
      "source": [
        "datatrain_tensor = torch.Tensor(datatrain)\n",
        "datatrain_tensor = datatrain_tensor.permute(0, 3, 1, 2)\n",
        "my_datatrain = TensorDataset(datatrain_tensor,torch.Tensor(data[\"Train\"][\"labels\"]))\n"
      ]
    },
    {
      "cell_type": "code",
      "execution_count": null,
      "metadata": {
        "id": "kepBTqzTjOJX"
      },
      "outputs": [],
      "source": [
        "dataval_tensor = torch.Tensor(dataval)\n",
        "dataval_tensor = dataval_tensor.permute(0, 3, 1, 2)\n",
        "my_dataval = TensorDataset(dataval_tensor,torch.Tensor(data[\"Validation\"][\"labels\"]))"
      ]
    },
    {
      "cell_type": "markdown",
      "metadata": {
        "id": "JtCQR0PejOJX"
      },
      "source": [
        "## Funciones de entrenamiento"
      ]
    },
    {
      "cell_type": "code",
      "execution_count": null,
      "metadata": {
        "id": "SAd3GPFZjOJX"
      },
      "outputs": [],
      "source": [
        "def show_curves(curves):\n",
        "    fig, ax = plt.subplots(1, 2, figsize=(13, 5))\n",
        "    fig.set_facecolor('white')\n",
        "\n",
        "    epochs = np.arange(len(curves[\"val_loss\"])) + 1\n",
        "\n",
        "    ax[0].plot(epochs, curves['val_loss'], label='validation')\n",
        "    ax[0].plot(epochs, curves['train_loss'], label='training')\n",
        "    ax[0].set_xlabel('Epoch')\n",
        "    ax[0].set_ylabel('Loss')\n",
        "    ax[0].set_title('Loss evolution during training')\n",
        "    ax[0].legend()\n",
        "\n",
        "    ax[1].plot(epochs, curves['val_acc'], label='validation')\n",
        "    ax[1].plot(epochs, curves['train_acc'], label='training')\n",
        "    ax[1].set_xlabel('Epoch')\n",
        "    ax[1].set_ylabel('Accuracy')\n",
        "    ax[1].set_title('Accuracy evolution during training')\n",
        "    ax[1].legend()\n",
        "\n",
        "    plt.show()\n",
        "\n",
        "def train_model(\n",
        "    model,\n",
        "    criterioy,\n",
        "    criteriox,\n",
        "    train_dataset,\n",
        "    val_dataset,\n",
        "    num_epoch,\n",
        "    batch_size,\n",
        "    lr,\n",
        "    use_gpu=False\n",
        "):\n",
        "    if use_gpu:\n",
        "        model.cuda()\n",
        "\n",
        "\n",
        "    # Definición de dataloader\n",
        "    train_loader = torch.utils.data.DataLoader(train_dataset, batch_size=batch_size, shuffle=True, pin_memory=use_gpu)\n",
        "    val_loader = torch.utils.data.DataLoader(val_dataset, batch_size=len(val_dataset), shuffle=False, pin_memory=use_gpu)\n",
        "    num_total_steps=len(train_loader)\n",
        "    # Optimizador\n",
        "    optimizer = torch.optim.Adam(model.parameters(), lr=lr)\n",
        "\n",
        "    # Listas para guardar curvas de entrenamiento\n",
        "    curves = {\n",
        "        \"train_acc\": [],\n",
        "        \"val_acc\": [],\n",
        "        \"train_loss\": [],\n",
        "        \"val_loss\": []\n",
        "    }\n",
        "\n",
        "\n",
        "    t0 = time.perf_counter()\n",
        "\n",
        "    for epoch in range(num_epoch):\n",
        "        cumulative_train_loss = 0\n",
        "        cumulative_train_corrects = 0\n",
        "        train_acc_count=0\n",
        "        # Entrenamiento del modelo\n",
        "        model.train()\n",
        "        for i, (x_batch, y_batch) in enumerate(train_loader):\n",
        "            print(f\"\\rEpoch {epoch + 1}/{num_epoch} - Batch {i}/{len(train_loader)}\", end=\"\")\n",
        "            if use_gpu:\n",
        "                x_batch = x_batch.cuda()\n",
        "                y_batch = y_batch.cuda()\n",
        "\n",
        "            # Predicción\n",
        "            x_reconstructed, y_predicted = model(x_batch)\n",
        "            if use_gpu:\n",
        "                y_batch = y_batch.type(torch.LongTensor).cuda()\n",
        "            else:\n",
        "                y_batch = y_batch.type(torch.LongTensor)\n",
        "            # y_batch = y_batch.reshape(-1, 1)\n",
        "\n",
        "            # Cálculo de loss\n",
        "           \n",
        "            loss_y = criterioy(y_predicted,y_batch)\n",
        "            loss_x = criteriox(x_reconstructed, x_batch)\n",
        "           \n",
        "\n",
        "            loss=loss_y*0.05+loss_x*0.95\n",
        "\n",
        "            # Actualización de parámetros\n",
        "            optimizer.zero_grad()\n",
        "            loss.backward()\n",
        "            optimizer.step()\n",
        "            \n",
        "            cumulative_train_loss += loss.item()\n",
        "\n",
        "            # Calculamos número de aciertos\n",
        "            class_prediction = torch.argmax(y_predicted, axis=1).long()\n",
        "            train_acc_count += y_batch.shape[0]\n",
        "\n",
        "            cumulative_train_corrects += (y_batch == class_prediction).sum().item()\n",
        "        train_acc=cumulative_train_corrects / train_acc_count\n",
        "        train_loss=cumulative_train_loss/num_total_steps\n",
        "        print(f\"Epoch [{epoch+1}/{num_epoch}],  Loss:{train_loss:.4f}, acc train: {train_acc:.4f}\")\n",
        "\n",
        "        # Evaluación del modelo\n",
        "        model.eval()\n",
        "        with torch.no_grad():\n",
        "            val_acc_count=0\n",
        "            cumulative_val_corrects=0\n",
        "            for x_val, y_val in val_loader:\n",
        "                if use_gpu:\n",
        "                    x_val = x_val.cuda()\n",
        "                    y_val = y_val.cuda()\n",
        "\n",
        "                x_reconstructed, y_predicted = model(x_val)\n",
        "                if use_gpu:\n",
        "\n",
        "                    y_val = y_val.type(torch.LongTensor).cuda()\n",
        "                else:\n",
        "                    y_val = y_val.type(torch.LongTensor).cuda()\n",
        "                class_prediction = torch.argmax(y_predicted, axis=1).long()\n",
        "                val_acc_count += y_val.shape[0]\n",
        "                cumulative_val_corrects += (y_val == class_prediction).sum().item()\n",
        "                # Cálculo de loss\n",
        "                loss_y_val = criterioy(y_predicted, y_val)\n",
        "                loss_x_val = criteriox(x_reconstructed, x_val)\n",
        "\n",
        "                loss_val=loss_y_val*0.05+loss_x_val*0.95\n",
        "\n",
        "        val_acc=cumulative_val_corrects / val_acc_count\n",
        "        val_loss=loss_val.item()\n",
        "\n",
        "        print(f\"\\t, Loss:{val_loss:.4f}, acc val: {val_acc:.4f}\")\n",
        "\n",
        "        curves[\"train_acc\"].append(train_acc)\n",
        "        curves[\"val_acc\"].append(val_acc)\n",
        "        curves[\"train_loss\"].append(train_loss)\n",
        "        curves[\"val_loss\"].append(val_loss)\n",
        "    model.cpu()\n",
        "    print(f\"Tiempo total de entrenamiento: {time.perf_counter() - t0:.4f} [s]\")\n",
        "\n",
        "    return curves"
      ]
    },
    {
      "cell_type": "markdown",
      "metadata": {
        "id": "FkwO8i-OjOJY"
      },
      "source": [
        "## Autoencoder"
      ]
    },
    {
      "cell_type": "code",
      "execution_count": null,
      "metadata": {
        "id": "TRtHMrGJjOJY"
      },
      "outputs": [],
      "source": [
        "class AutoEncoderV5(nn.Module):\n",
        "    def __init__(self,):\n",
        "        super().__init__()\n",
        "        self.encoder = nn.Sequential(\n",
        "\n",
        "            # Bloque 1\n",
        "            # [3x21x21]\n",
        "            nn.ZeroPad2d(3),\n",
        "            # [3x27x27]\n",
        "            nn.Conv2d(3, 16, kernel_size=4, padding=\"same\"),\n",
        "            nn.ReLU(),\n",
        "            # [16, 24, 24]\n",
        "            nn.Conv2d(16, 32, kernel_size=3, padding=\"same\"),\n",
        "            nn.ReLU(),\n",
        "            # [32, 24, 24]\n",
        "            nn.AvgPool2d(kernel_size=2),\n",
        "            # [32, 12, 12]\n",
        "\n",
        "            # Bloque 2\n",
        "            nn.Conv2d(32, 32, kernel_size=3, padding=\"same\"),\n",
        "            nn.ReLU(),\n",
        "            # [32, 12, 12]\n",
        "            nn.Conv2d(32, 64, kernel_size=3, padding=\"same\"),\n",
        "            nn.ReLU(),\n",
        "            # [64, 12, 12]\n",
        "            nn.AvgPool2d(kernel_size=2),\n",
        "            # [64, 6, 6]\n",
        "\n",
        "            # Bloque 3\n",
        "            nn.Conv2d(64, 64, kernel_size=3, padding=\"same\"),\n",
        "            nn.ReLU(),\n",
        "            nn.Conv2d(64, 128, kernel_size=3, padding=\"same\"),\n",
        "            nn.ReLU(),\n",
        "            # [128, 6, 6]\n",
        "            nn.AvgPool2d(kernel_size=2),\n",
        "            # [128, 3, 3]\n",
        "\n",
        "            # Bloque 4\n",
        "            nn.Conv2d(128, 128, kernel_size=3, padding=\"same\"),\n",
        "            nn.ReLU(),\n",
        "            # [128, 3, 3]\n",
        "            nn.AvgPool2d(kernel_size=2),\n",
        "            # [128, 1, 1]   \n",
        "        )\n",
        "        self.decoder = nn.Sequential(\n",
        "            # BLoque 1\n",
        "            # [128, 1, 1]\n",
        "            nn.ConvTranspose2d(128, 64, 2,stride=1),\n",
        "            nn.ReLU(),\n",
        "            # [64, 2, 2]\n",
        "\n",
        "            # BLoque 2\n",
        "            nn.ConvTranspose2d(64, 64, 3,stride=2),\n",
        "            nn.ReLU(),\n",
        "            # [64, 5, 5]\n",
        "            nn.ConvTranspose2d(64, 32, 1,stride=1),\n",
        "            nn.ReLU(),\n",
        "            # [32, 5, 5]\n",
        "\n",
        "            # Bloque 3\n",
        "            nn.ConvTranspose2d(32, 32, 2,stride=2),\n",
        "            nn.ReLU(),\n",
        "            # [32, 10, 10]\n",
        "            nn.ConvTranspose2d(32, 32, 1,stride=1),\n",
        "            nn.ReLU(),\n",
        "            # [32, 10, 10]\n",
        "\n",
        "            # BLoque 4\n",
        "            nn.ConvTranspose2d(32, 16, 3,stride=2),\n",
        "            nn.ReLU(),\n",
        "            nn.ConvTranspose2d(16, 16, 1,stride=1),\n",
        "            nn.ReLU(),\n",
        "            # Bloque 5\n",
        "            nn.ConvTranspose2d(16, 3, 1,stride=1),\n",
        "            nn.ReLU(),\n",
        "        )\n",
        "        \n",
        "        self.classifier = nn.Sequential(\n",
        "            nn.Flatten(),\n",
        "            nn.Dropout(p=0.8),\n",
        "            nn.Linear(128,64),\n",
        "            nn.ReLU(),\n",
        "            # Rotation concat\n",
        "            # cyclic pooling\n",
        "            nn.Linear(64,64),\n",
        "            nn.ReLU(),\n",
        "            nn.Linear(64,64),\n",
        "            nn.ReLU(),\n",
        "            nn.Linear(64,5),\n",
        "            nn.Softmax(dim=1),\n",
        "\n",
        "        )\n",
        "\n",
        "    def forward(self, x):\n",
        "            encoder = self.encoder(x)\n",
        "            decoder = self.decoder(encoder)\n",
        "            classification = self.classifier(encoder)\n",
        "            return decoder,classification"
      ]
    },
    {
      "cell_type": "markdown",
      "metadata": {
        "id": "IZP6RULcjOJZ"
      },
      "source": [
        "## Entrenamiento"
      ]
    },
    {
      "cell_type": "code",
      "execution_count": null,
      "metadata": {
        "colab": {
          "base_uri": "https://localhost:8080/"
        },
        "id": "lySCU_c1jOJZ",
        "outputId": "84bb5f93-902a-4b12-aee3-b5dc0d67a7df"
      },
      "outputs": [
        {
          "name": "stdout",
          "output_type": "stream",
          "text": [
            "Epoch 1/50 - Batch 2272/2273Epoch [1/50],  Loss:0.1370, acc train: 0.3571\n",
            "\t, Loss:0.1337, acc val: 0.4180\n",
            "Epoch 2/50 - Batch 2272/2273Epoch [2/50],  Loss:0.1301, acc train: 0.5411\n",
            "\t, Loss:0.1260, acc val: 0.6060\n",
            "Epoch 3/50 - Batch 2272/2273Epoch [3/50],  Loss:0.1270, acc train: 0.5924\n",
            "\t, Loss:0.1238, acc val: 0.6400\n",
            "Epoch 4/50 - Batch 2272/2273Epoch [4/50],  Loss:0.1252, acc train: 0.6250\n",
            "\t, Loss:0.1232, acc val: 0.6420\n",
            "Epoch 5/50 - Batch 2272/2273Epoch [5/50],  Loss:0.1036, acc train: 0.6438\n",
            "\t, Loss:0.0723, acc val: 0.6420\n",
            "Epoch 6/50 - Batch 2272/2273Epoch [6/50],  Loss:0.0690, acc train: 0.6572\n",
            "\t, Loss:0.0668, acc val: 0.6720\n",
            "Epoch 7/50 - Batch 2272/2273Epoch [7/50],  Loss:0.0670, acc train: 0.6648\n",
            "\t, Loss:0.0663, acc val: 0.6740\n",
            "Epoch 8/50 - Batch 2272/2273Epoch [8/50],  Loss:0.0660, acc train: 0.6759\n",
            "\t, Loss:0.0654, acc val: 0.6840\n",
            "Epoch 9/50 - Batch 2272/2273Epoch [9/50],  Loss:0.0653, acc train: 0.6829\n",
            "\t, Loss:0.0648, acc val: 0.6960\n",
            "Epoch 10/50 - Batch 2272/2273Epoch [10/50],  Loss:0.0647, acc train: 0.6898\n",
            "\t, Loss:0.0633, acc val: 0.7180\n",
            "Epoch 11/50 - Batch 2272/2273Epoch [11/50],  Loss:0.0642, acc train: 0.6976\n",
            "\t, Loss:0.0630, acc val: 0.7280\n",
            "Epoch 12/50 - Batch 2272/2273Epoch [12/50],  Loss:0.0637, acc train: 0.7042\n",
            "\t, Loss:0.0622, acc val: 0.7320\n",
            "Epoch 13/50 - Batch 2272/2273Epoch [13/50],  Loss:0.0633, acc train: 0.7094\n",
            "\t, Loss:0.0625, acc val: 0.7300\n",
            "Epoch 14/50 - Batch 2272/2273Epoch [14/50],  Loss:0.0630, acc train: 0.7142\n",
            "\t, Loss:0.0620, acc val: 0.7320\n",
            "Epoch 15/50 - Batch 2272/2273Epoch [15/50],  Loss:0.0626, acc train: 0.7203\n",
            "\t, Loss:0.0604, acc val: 0.7640\n",
            "Epoch 16/50 - Batch 2272/2273Epoch [16/50],  Loss:0.0622, acc train: 0.7271\n",
            "\t, Loss:0.0603, acc val: 0.7660\n",
            "Epoch 17/50 - Batch 2272/2273Epoch [17/50],  Loss:0.0619, acc train: 0.7323\n",
            "\t, Loss:0.0609, acc val: 0.7500\n",
            "Epoch 18/50 - Batch 2272/2273Epoch [18/50],  Loss:0.0616, acc train: 0.7350\n",
            "\t, Loss:0.0607, acc val: 0.7520\n",
            "Epoch 19/50 - Batch 2272/2273Epoch [19/50],  Loss:0.0613, acc train: 0.7411\n",
            "\t, Loss:0.0608, acc val: 0.7500\n",
            "Epoch 20/50 - Batch 2272/2273Epoch [20/50],  Loss:0.0610, acc train: 0.7465\n",
            "\t, Loss:0.0607, acc val: 0.7500\n",
            "Epoch 21/50 - Batch 2272/2273Epoch [21/50],  Loss:0.0608, acc train: 0.7507\n",
            "\t, Loss:0.0606, acc val: 0.7500\n",
            "Epoch 22/50 - Batch 2272/2273Epoch [22/50],  Loss:0.0605, acc train: 0.7548\n",
            "\t, Loss:0.0604, acc val: 0.7500\n",
            "Epoch 23/50 - Batch 2272/2273Epoch [23/50],  Loss:0.0605, acc train: 0.7553\n",
            "\t, Loss:0.0605, acc val: 0.7560\n",
            "Epoch 24/50 - Batch 2272/2273Epoch [24/50],  Loss:0.0602, acc train: 0.7608\n",
            "\t, Loss:0.0603, acc val: 0.7580\n",
            "Epoch 25/50 - Batch 2272/2273Epoch [25/50],  Loss:0.0600, acc train: 0.7627\n",
            "\t, Loss:0.0596, acc val: 0.7760\n",
            "Epoch 26/50 - Batch 2272/2273Epoch [26/50],  Loss:0.0598, acc train: 0.7659\n",
            "\t, Loss:0.0594, acc val: 0.7760\n",
            "Epoch 27/50 - Batch 2272/2273Epoch [27/50],  Loss:0.0597, acc train: 0.7691\n",
            "\t, Loss:0.0597, acc val: 0.7660\n",
            "Epoch 28/50 - Batch 2272/2273Epoch [28/50],  Loss:0.0596, acc train: 0.7706\n",
            "\t, Loss:0.0593, acc val: 0.7740\n",
            "Epoch 29/50 - Batch 2272/2273Epoch [29/50],  Loss:0.0594, acc train: 0.7738\n",
            "\t, Loss:0.0601, acc val: 0.7620\n",
            "Epoch 30/50 - Batch 2272/2273Epoch [30/50],  Loss:0.0594, acc train: 0.7740\n",
            "\t, Loss:0.0594, acc val: 0.7740\n",
            "Epoch 31/50 - Batch 2272/2273Epoch [31/50],  Loss:0.0593, acc train: 0.7746\n",
            "\t, Loss:0.0594, acc val: 0.7740\n",
            "Epoch 32/50 - Batch 2272/2273Epoch [32/50],  Loss:0.0591, acc train: 0.7784\n",
            "\t, Loss:0.0596, acc val: 0.7680\n",
            "Epoch 33/50 - Batch 2272/2273Epoch [33/50],  Loss:0.0590, acc train: 0.7802\n",
            "\t, Loss:0.0593, acc val: 0.7760\n",
            "Epoch 34/50 - Batch 2272/2273Epoch [34/50],  Loss:0.0588, acc train: 0.7832\n",
            "\t, Loss:0.0597, acc val: 0.7660\n",
            "Epoch 35/50 - Batch 2272/2273Epoch [35/50],  Loss:0.0589, acc train: 0.7812\n",
            "\t, Loss:0.0589, acc val: 0.7800\n",
            "Epoch 36/50 - Batch 2272/2273Epoch [36/50],  Loss:0.0587, acc train: 0.7858\n",
            "\t, Loss:0.0590, acc val: 0.7740\n",
            "Epoch 37/50 - Batch 2272/2273Epoch [37/50],  Loss:0.0587, acc train: 0.7849\n",
            "\t, Loss:0.0588, acc val: 0.7840\n",
            "Epoch 38/50 - Batch 2272/2273Epoch [38/50],  Loss:0.0585, acc train: 0.7883\n",
            "\t, Loss:0.0589, acc val: 0.7820\n",
            "Epoch 39/50 - Batch 2272/2273Epoch [39/50],  Loss:0.0584, acc train: 0.7892\n",
            "\t, Loss:0.0592, acc val: 0.7760\n",
            "Epoch 40/50 - Batch 2272/2273Epoch [40/50],  Loss:0.0583, acc train: 0.7919\n",
            "\t, Loss:0.0585, acc val: 0.7880\n",
            "Epoch 41/50 - Batch 2272/2273Epoch [41/50],  Loss:0.0582, acc train: 0.7929\n",
            "\t, Loss:0.0585, acc val: 0.7920\n",
            "Epoch 42/50 - Batch 2272/2273Epoch [42/50],  Loss:0.0582, acc train: 0.7937\n",
            "\t, Loss:0.0589, acc val: 0.7780\n",
            "Epoch 43/50 - Batch 2272/2273Epoch [43/50],  Loss:0.0581, acc train: 0.7953\n",
            "\t, Loss:0.0585, acc val: 0.7860\n",
            "Epoch 44/50 - Batch 2272/2273Epoch [44/50],  Loss:0.0581, acc train: 0.7946\n",
            "\t, Loss:0.0589, acc val: 0.7760\n",
            "Epoch 45/50 - Batch 2272/2273Epoch [45/50],  Loss:0.0580, acc train: 0.7976\n",
            "\t, Loss:0.0583, acc val: 0.7940\n",
            "Epoch 46/50 - Batch 2272/2273Epoch [46/50],  Loss:0.0578, acc train: 0.8006\n",
            "\t, Loss:0.0589, acc val: 0.7820\n",
            "Epoch 47/50 - Batch 2272/2273Epoch [47/50],  Loss:0.0578, acc train: 0.8014\n",
            "\t, Loss:0.0583, acc val: 0.7940\n",
            "Epoch 48/50 - Batch 2272/2273Epoch [48/50],  Loss:0.0576, acc train: 0.8028\n",
            "\t, Loss:0.0583, acc val: 0.7880\n",
            "Epoch 49/50 - Batch 2272/2273Epoch [49/50],  Loss:0.0577, acc train: 0.8027\n",
            "\t, Loss:0.0577, acc val: 0.8100\n",
            "Epoch 50/50 - Batch 2272/2273Epoch [50/50],  Loss:0.0575, acc train: 0.8068\n",
            "\t, Loss:0.0584, acc val: 0.7880\n",
            "Tiempo total de entrenamiento: 1240.9258 [s]\n"
          ]
        }
      ],
      "source": [
        "model=AutoEncoderV5()\n",
        "num_epoch=50\n",
        "lr=1e-4\n",
        "batch=32\n",
        "criterio1=nn.CrossEntropyLoss()\n",
        "criterio2=nn.MSELoss()\n",
        "# def train_model(\n",
        "#     model,\n",
        "#     criterioy,\n",
        "#     criteriox,\n",
        "#     train_dataset,\n",
        "#     val_dataset,\n",
        "#     num_epoch,\n",
        "#     batch_size,\n",
        "#     lr,\n",
        "#     use_gpu=False\n",
        "\n",
        "history=train_model(model,criterio1,criterio2,my_datatrain,my_dataval,num_epoch,batch,lr,True)"
      ]
    },
    {
      "cell_type": "code",
      "execution_count": null,
      "metadata": {
        "colab": {
          "base_uri": "https://localhost:8080/",
          "height": 350
        },
        "id": "156qfXuYjOJZ",
        "outputId": "7ec96961-65af-4d64-d602-f37dff0f1b39"
      },
      "outputs": [
        {
          "data": {
            "image/png": "[encoded data removed]",
            "text/plain": [
              "<Figure size 936x360 with 2 Axes>"
            ]
          },
          "metadata": {},
          "output_type": "display_data"
        }
      ],
      "source": [
        "show_curves(history)"
      ]
    },
    {
      "cell_type": "code",
      "execution_count": null,
      "metadata": {
        "colab": {
          "base_uri": "https://localhost:8080/"
        },
        "id": "3qPc7RgfJ-5O",
        "outputId": "c34e785a-2976-44e7-e643-3c5fc8b2856c"
      },
      "outputs": [
        {
          "name": "stdout",
          "output_type": "stream",
          "text": [
            "Epoch 1/10 - Batch 1136/1137Epoch [1/10],  Loss:0.0579, acc train: 0.7967\n",
            "\t, Loss:0.0587, acc val: 0.7820\n",
            "Epoch 2/10 - Batch 1136/1137Epoch [2/10],  Loss:0.0578, acc train: 0.7992\n",
            "\t, Loss:0.0575, acc val: 0.8100\n",
            "Epoch 3/10 - Batch 1136/1137Epoch [3/10],  Loss:0.0577, acc train: 0.7996\n",
            "\t, Loss:0.0578, acc val: 0.7960\n",
            "Epoch 4/10 - Batch 1136/1137Epoch [4/10],  Loss:0.0578, acc train: 0.7978\n",
            "\t, Loss:0.0583, acc val: 0.7900\n",
            "Epoch 5/10 - Batch 1136/1137Epoch [5/10],  Loss:0.0578, acc train: 0.7987\n",
            "\t, Loss:0.0580, acc val: 0.8000\n",
            "Epoch 6/10 - Batch 1136/1137Epoch [6/10],  Loss:0.0577, acc train: 0.8006\n",
            "\t, Loss:0.0583, acc val: 0.7880\n",
            "Epoch 7/10 - Batch 1136/1137Epoch [7/10],  Loss:0.0577, acc train: 0.8008\n",
            "\t, Loss:0.0584, acc val: 0.7860\n",
            "Epoch 8/10 - Batch 1136/1137Epoch [8/10],  Loss:0.0576, acc train: 0.8021\n",
            "\t, Loss:0.0579, acc val: 0.7980\n",
            "Epoch 9/10 - Batch 1136/1137Epoch [9/10],  Loss:0.0575, acc train: 0.8031\n",
            "\t, Loss:0.0585, acc val: 0.7860\n",
            "Epoch 10/10 - Batch 1136/1137Epoch [10/10],  Loss:0.0575, acc train: 0.8048\n",
            "\t, Loss:0.0587, acc val: 0.7800\n",
            "Tiempo total de entrenamiento: 125.9382 [s]\n"
          ]
        }
      ],
      "source": [
        "num_epoch=10\n",
        "lr=1e-4\n",
        "batch=64\n",
        "criterio1=nn.CrossEntropyLoss()\n",
        "criterio2=nn.MSELoss()\n",
        "# def train_model(\n",
        "#     model,\n",
        "#     criterioy,\n",
        "#     criteriox,\n",
        "#     train_dataset,\n",
        "#     val_dataset,\n",
        "#     num_epoch,\n",
        "#     batch_size,\n",
        "#     lr,\n",
        "#     use_gpu=False\n",
        "\n",
        "history=train_model(model,criterio1,criterio2,my_datatrain,my_dataval,num_epoch,batch,lr,True)"
      ]
    },
    {
      "cell_type": "code",
      "execution_count": null,
      "metadata": {
        "colab": {
          "base_uri": "https://localhost:8080/",
          "height": 350
        },
        "id": "fQdu9cwjaLg7",
        "outputId": "95ecd38f-b8fd-4487-d54f-c7f2e3422372"
      },
      "outputs": [
        {
          "data": {
            "image/png": "[encoded data removed]",
            "text/plain": [
              "<Figure size 936x360 with 2 Axes>"
            ]
          },
          "metadata": {},
          "output_type": "display_data"
        }
      ],
      "source": [
        "show_curves(history)"
      ]
    },
    {
      "cell_type": "code",
      "execution_count": null,
      "metadata": {
        "id": "0-j_rzeUoTsb"
      },
      "outputs": [],
      "source": [
        "torch.save(model.state_dict(),\"./AutoencoderClasificador10.pth\")"
      ]
    }
  ],
  "metadata": {
    "accelerator": "GPU",
    "colab": {
      "provenance": []
    },
    "gpuClass": "standard",
    "kernelspec": {
      "display_name": "inteligencia",
      "language": "python",
      "name": "python3"
    },
    "language_info": {
      "codemirror_mode": {
        "name": "ipython",
        "version": 3
      },
      "file_extension": ".py",
      "mimetype": "text/x-python",
      "name": "python",
      "nbconvert_exporter": "python",
      "pygments_lexer": "ipython3",
      "version": "3.10.8 (tags/v3.10.8:aaaf517, Oct 11 2022, 16:50:30) [MSC v.1933 64 bit (AMD64)]"
    },
    "orig_nbformat": 4,
    "vscode": {
      "interpreter": {
        "hash": "49e74fd012b5c81c96c72a4dc2768bca761f8ccf6bfd7a19c7f396fe41ae87bd"
      }
    }
  },
  "nbformat": 4,
  "nbformat_minor": 0
}
