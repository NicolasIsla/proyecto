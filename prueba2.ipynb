{
 "cells": [
  {
   "cell_type": "code",
   "execution_count": null,
   "metadata": {},
   "outputs": [
    {
     "name": "stderr",
     "output_type": "stream",
     "text": [
      "c:\\Users\\nicoi\\anaconda3\\envs\\int\\lib\\site-packages\\tqdm\\auto.py:22: TqdmWarning: IProgress not found. Please update jupyter and ipywidgets. See https://ipywidgets.readthedocs.io/en/stable/user_install.html\n",
      "  from .autonotebook import tqdm as notebook_tqdm\n"
     ]
    }
   ],
   "source": [
    "# librerias de arquitectura\n",
    "\n",
    "import procesamiento\n",
    "from torch.utils.data import TensorDataset, DataLoader\n",
    "import torch\n",
    "import torch.nn as nn\n",
    "import pickle\n",
    "import matplotlib.pyplot as plt\n",
    "import numpy as np"
   ]
  },
  {
   "cell_type": "code",
   "execution_count": null,
   "metadata": {},
   "outputs": [
    {
     "name": "stdout",
     "output_type": "stream",
     "text": [
      "dict_keys(['Train', 'Validation', 'Test'])\n"
     ]
    }
   ],
   "source": [
    "with open('./td_ztf_stamp_17_06_20.pkl', 'rb') as f:\n",
    "        full_data = pickle.load(f)\n",
    "print(full_data.keys())"
   ]
  },
  {
   "cell_type": "code",
   "execution_count": null,
   "metadata": {},
   "outputs": [],
   "source": [
    "# data_train=procesamiento.recorte(full_data[\"Train\"][\"images\"],21)\n",
    "# data_val=procesamiento.recorte(full_data[\"Validation\"][\"images\"],21)\n",
    "data_test=procesamiento.recorte(full_data[\"Test\"][\"images\"],21)\n",
    "data_tuples = [(x, y) for (x, y) in data_test] # Separamos el dataset en X, y\n",
    "X_test = torch.stack([t[0] for t in data_tuples])"
   ]
  },
  {
   "cell_type": "code",
   "execution_count": null,
   "metadata": {},
   "outputs": [
    {
     "name": "stdout",
     "output_type": "stream",
     "text": [
      "entrada red torch.Size([1, 3, 21, 21])\n",
      "salida red torch.Size([1, 16, 10, 10])\n"
     ]
    }
   ],
   "source": [
    "from arquitectura import  *\n",
    "model = AutoEncoderV4()\n",
    "prueba=X_test[0]\n",
    "prueba=prueba.reshape(1,3,21,21)\n",
    "# duda dimensiones\n",
    "print(\"entrada red\",prueba.shape)\n",
    "print(\"salida red\",model(prueba).shape)"
   ]
  },
  {
   "cell_type": "code",
   "execution_count": null,
   "metadata": {},
   "outputs": [],
   "source": []
  }
 ],
 "metadata": {
  "kernelspec": {
   "display_name": "Python 3.10.6 ('int')",
   "language": "python",
   "name": "python3"
  },
  "language_info": {
   "codemirror_mode": {
    "name": "ipython",
    "version": 3
   },
   "file_extension": ".py",
   "mimetype": "text/x-python",
   "name": "python",
   "nbconvert_exporter": "python",
   "pygments_lexer": "ipython3",
   "version": "3.10.6"
  },
  "orig_nbformat": 4,
  "vscode": {
   "interpreter": {
    "hash": "a3f81fb861a2e9177b0adba1a802b9e82311670ed2ac6abdf07a156dc26cbf26"
   }
  }
 },
 "nbformat": 4,
 "nbformat_minor": 2
}
