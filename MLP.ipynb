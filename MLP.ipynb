{
 "cells": [
  {
   "cell_type": "code",
   "execution_count": null,
   "metadata": {},
   "outputs": [],
   "source": [
    "from google.colab import drive,output\n",
    "\n",
    "drive.mount('/content/drive')\n",
    "!ln -s \"/content/drive/MyDrive/proyecto/Codigos\""
   ]
  },
  {
   "cell_type": "code",
   "execution_count": null,
   "metadata": {},
   "outputs": [],
   "source": [
    "import os\n",
    "\n",
    "# Print the current working directory\n",
    "print(\"Current working directory: {0}\".format(os.getcwd()))\n",
    "# os.chdir(\"/content/drive/MyDrive/Codigos\")\n",
    "os.chdir(\"./Codigos\")\n",
    "# Print the current working directory\n",
    "print(\"Current working directory: {0}\".format(os.getcwd()))"
   ]
  },
  {
   "cell_type": "code",
   "execution_count": null,
   "metadata": {},
   "outputs": [],
   "source": [
    "# descarga, descomprimir archivos y lectura pkl\n",
    "!pip install google.colab\n",
    "from google.colab import drive\n",
    "!pip install zipfile_deflate64\n",
    "import zipfile_deflate64 as zipfile\n",
    "import pickle\n",
    "\n",
    "# librerias genericas\n",
    "import numpy as np\n",
    "import matplotlib.pyplot as plt\n",
    "import seaborn as sns\n",
    "\n",
    "# librerias de arquitectura\n",
    "from torch.utils.data import TensorDataset, DataLoader\n",
    "import torch\n",
    "import torch.nn as nn\n",
    "!pip install torchsummary\n",
    "from torchsummary import summary"
   ]
  },
  {
   "cell_type": "code",
   "execution_count": null,
   "metadata": {},
   "outputs": [],
   "source": []
  }
 ],
 "metadata": {
  "kernelspec": {
   "display_name": "Python 3.10.6 ('int')",
   "language": "python",
   "name": "python3"
  },
  "language_info": {
   "name": "python",
   "version": "3.10.6"
  },
  "orig_nbformat": 4,
  "vscode": {
   "interpreter": {
    "hash": "a3f81fb861a2e9177b0adba1a802b9e82311670ed2ac6abdf07a156dc26cbf26"
   }
  }
 },
 "nbformat": 4,
 "nbformat_minor": 2
}
